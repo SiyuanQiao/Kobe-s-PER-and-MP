{
  "nbformat": 4,
  "nbformat_minor": 0,
  "metadata": {
    "colab": {
      "name": "Kobe's Career Per and MP based on ages",
      "provenance": [],
      "collapsed_sections": [],
      "authorship_tag": "ABX9TyMoXAQ5/ueuo78FLDAlkuew",
      "include_colab_link": true
    },
    "kernelspec": {
      "name": "python3",
      "display_name": "Python 3"
    },
    "language_info": {
      "name": "python"
    }
  },
  "cells": [
    {
      "cell_type": "markdown",
      "metadata": {
        "id": "view-in-github",
        "colab_type": "text"
      },
      "source": [
        "<a href=\"https://colab.research.google.com/github/SiyuanQiao/Kobe-s-PER-and-MP/blob/main/Kobe's_Career_Per_and_MP_based_on_ages.ipynb\" target=\"_parent\"><img src=\"https://colab.research.google.com/assets/colab-badge.svg\" alt=\"Open In Colab\"/></a>"
      ]
    },
    {
      "cell_type": "markdown",
      "metadata": {
        "id": "aHEEUEsS-vtz"
      },
      "source": [
        "##Import the csv file from local to Colab"
      ]
    },
    {
      "cell_type": "code",
      "metadata": {
        "id": "7j8sqp7uYurg"
      },
      "source": [
        "import numpy as np\n",
        "import pandas as pd\n",
        "import matplotlib.pyplot as plt\n",
        "import seaborn as sns\n",
        "%matplotlib inline\n",
        "import plotly.graph_objects as go\n",
        "\n",
        "data = pd.read_csv( '/content/advanced_stats.csv', parse_dates=['Season'])"
      ],
      "execution_count": null,
      "outputs": []
    },
    {
      "cell_type": "code",
      "metadata": {
        "id": "m1NBpAVe193d"
      },
      "source": [
        "df"
      ],
      "execution_count": null,
      "outputs": []
    },
    {
      "cell_type": "markdown",
      "metadata": {
        "id": "Nc-G5U-EyQ5S"
      },
      "source": [
        "##Create a bar chart that contains Kobe's PER based on each season"
      ]
    },
    {
      "cell_type": "code",
      "metadata": {
        "id": "GUXrhL7UygHH"
      },
      "source": [
        "df = pd.read_csv(\"/content/advanced_stats.csv\",sep=\",\")\n",
        "d = dict(zip(df.index,df.values.tolist()))\n",
        "df.set_index('Season')[['PER','OWS']].plot.bar()\n",
        "plt.show()"
      ],
      "execution_count": null,
      "outputs": []
    },
    {
      "cell_type": "markdown",
      "metadata": {
        "id": "LXloQOW229mw"
      },
      "source": [
        "##3D plot"
      ]
    },
    {
      "cell_type": "code",
      "metadata": {
        "id": "EuQ3z5sZoS3E"
      },
      "source": [
        "px.scatter_3d(data, x=\"Age\", y= 'MP', z= 'PER')"
      ],
      "execution_count": null,
      "outputs": []
    }
  ]
}